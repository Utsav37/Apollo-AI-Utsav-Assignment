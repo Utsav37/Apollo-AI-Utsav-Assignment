{
  "nbformat": 4,
  "nbformat_minor": 0,
  "metadata": {
    "colab": {
      "name": "pruneApollo.ipynb",
      "version": "0.3.2",
      "provenance": [],
      "collapsed_sections": [],
      "include_colab_link": true
    },
    "kernelspec": {
      "name": "python3",
      "display_name": "Python 3"
    },
    "accelerator": "GPU"
  },
  "cells": [
    {
      "cell_type": "markdown",
      "metadata": {
        "id": "view-in-github",
        "colab_type": "text"
      },
      "source": [
        "<a href=\"https://colab.research.google.com/github/Utsav37/Apollo-AI-Utsav-Assignment/blob/master/pruneApollo.ipynb\" target=\"_parent\"><img src=\"https://colab.research.google.com/assets/colab-badge.svg\" alt=\"Open In Colab\"/></a>"
      ]
    },
    {
      "metadata": {
        "id": "JsYtqG4ID7bL",
        "colab_type": "code",
        "colab": {
          "base_uri": "https://localhost:8080/",
          "height": 34
        },
        "outputId": "75148c6f-7ae0-46c3-d340-3f277b395171"
      },
      "cell_type": "code",
      "source": [
        "from google.colab import drive\n",
        "drive.mount('/content/drive',force_remount=True)"
      ],
      "execution_count": 45,
      "outputs": [
        {
          "output_type": "stream",
          "text": [
            "Mounted at /content/drive\n"
          ],
          "name": "stdout"
        }
      ]
    },
    {
      "metadata": {
        "id": "ktCaOWy43TFL",
        "colab_type": "code",
        "colab": {
          "base_uri": "https://localhost:8080/",
          "height": 738
        },
        "outputId": "8a6ce419-5adb-4b65-8e26-67dfc967a78d"
      },
      "cell_type": "code",
      "source": [
        "!python finetune.py --train"
      ],
      "execution_count": 46,
      "outputs": [
        {
          "output_type": "stream",
          "text": [
            "Epoch:  0\n",
            "Accuracy:  1.0\n",
            "Epoch:  1\n",
            "Accuracy:  1.0\n",
            "Epoch:  2\n",
            "Accuracy:  1.0\n",
            "Epoch:  3\n",
            "Accuracy:  1.0\n",
            "Epoch:  4\n",
            "Accuracy:  1.0\n",
            "Epoch:  5\n",
            "Accuracy:  1.0\n",
            "Epoch:  6\n",
            "Accuracy:  1.0\n",
            "Epoch:  7\n",
            "Accuracy:  1.0\n",
            "Epoch:  8\n",
            "Accuracy:  1.0\n",
            "Epoch:  9\n",
            "Accuracy:  1.0\n",
            "Epoch:  10\n",
            "Accuracy:  1.0\n",
            "Epoch:  11\n",
            "Accuracy:  1.0\n",
            "Epoch:  12\n",
            "Accuracy:  1.0\n",
            "Epoch:  13\n",
            "Accuracy:  1.0\n",
            "Epoch:  14\n",
            "Accuracy:  1.0\n",
            "Epoch:  15\n",
            "Accuracy:  1.0\n",
            "Epoch:  16\n",
            "Accuracy:  1.0\n",
            "Epoch:  17\n",
            "Accuracy:  1.0\n",
            "Epoch:  18\n",
            "Accuracy:  1.0\n",
            "Epoch:  19\n",
            "Accuracy:  1.0\n",
            "Finished fine tuning.\n"
          ],
          "name": "stdout"
        }
      ]
    },
    {
      "metadata": {
        "id": "pBMXo8sr-mok",
        "colab_type": "code",
        "colab": {
          "base_uri": "https://localhost:8080/",
          "height": 2991
        },
        "outputId": "879e6b25-75a7-40fb-c49d-d2e0c8746d41"
      },
      "cell_type": "code",
      "source": [
        "!python finetune.py --prune"
      ],
      "execution_count": 48,
      "outputs": [
        {
          "output_type": "stream",
          "text": [
            "Accuracy:  1.0\n",
            "Number of prunning iterations to reduce 67% filters 5\n",
            "Ranking filters.. \n",
            "Layers that will be prunned {24: 85, 14: 18, 21: 61, 26: 77, 10: 15, 17: 56, 28: 112, 12: 10, 19: 61, 0: 4, 2: 4, 5: 6, 7: 3}\n",
            "Prunning filters.. \n",
            "Filters prunned 87.87878787878788%\n",
            "Accuracy:  1.0\n",
            "Fine tuning to recover from prunning iteration.\n",
            "Epoch:  0\n",
            "Accuracy:  1.0\n",
            "Epoch:  1\n",
            "Accuracy:  1.0\n",
            "Epoch:  2\n",
            "Accuracy:  1.0\n",
            "Epoch:  3\n",
            "Accuracy:  1.0\n",
            "Epoch:  4\n",
            "Accuracy:  1.0\n",
            "Epoch:  5\n",
            "Accuracy:  1.0\n",
            "Epoch:  6\n",
            "Accuracy:  1.0\n",
            "Epoch:  7\n",
            "Accuracy:  1.0\n",
            "Epoch:  8\n",
            "Accuracy:  1.0\n",
            "Epoch:  9\n",
            "Accuracy:  1.0\n",
            "Finished fine tuning.\n",
            "Ranking filters.. \n",
            "Layers that will be prunned {28: 108, 19: 56, 21: 70, 7: 10, 17: 52, 14: 10, 2: 3, 24: 77, 26: 87, 5: 4, 12: 20, 10: 10, 0: 5}\n",
            "Prunning filters.. \n",
            "Filters prunned 75.75757575757575%\n",
            "Accuracy:  1.0\n",
            "Fine tuning to recover from prunning iteration.\n",
            "Epoch:  0\n",
            "Accuracy:  1.0\n",
            "Epoch:  1\n",
            "Accuracy:  1.0\n",
            "Epoch:  2\n",
            "Accuracy:  1.0\n",
            "Epoch:  3\n",
            "Accuracy:  1.0\n",
            "Epoch:  4\n",
            "Accuracy:  1.0\n",
            "Epoch:  5\n",
            "Accuracy:  0.0\n",
            "Epoch:  6\n",
            "Accuracy:  0.0\n",
            "Epoch:  7\n",
            "Accuracy:  0.0\n",
            "Epoch:  8\n",
            "Accuracy:  0.0\n",
            "Epoch:  9\n",
            "Accuracy:  0.0\n",
            "Finished fine tuning.\n",
            "Ranking filters.. \n",
            "Layers that will be prunned {28: 127, 19: 54, 21: 57, 26: 96, 24: 80, 17: 44, 14: 14, 7: 6, 0: 4, 10: 10, 12: 13, 5: 6, 2: 1}\n",
            "Prunning filters.. \n",
            "Filters prunned 63.63636363636363%\n",
            "Accuracy:  1.0\n",
            "Fine tuning to recover from prunning iteration.\n",
            "Epoch:  0\n",
            "Accuracy:  1.0\n",
            "Epoch:  1\n",
            "Accuracy:  1.0\n",
            "Epoch:  2\n",
            "Accuracy:  1.0\n",
            "Epoch:  3\n",
            "Accuracy:  1.0\n",
            "Epoch:  4\n",
            "Accuracy:  1.0\n",
            "Epoch:  5\n",
            "Accuracy:  1.0\n",
            "Epoch:  6\n",
            "Accuracy:  1.0\n",
            "Epoch:  7\n",
            "Accuracy:  1.0\n",
            "Epoch:  8\n",
            "Accuracy:  0.0\n",
            "Epoch:  9\n",
            "Accuracy:  0.0\n",
            "Finished fine tuning.\n",
            "Ranking filters.. \n",
            "Layers that will be prunned {28: 65, 17: 65, 26: 60, 24: 58, 10: 34, 21: 83, 19: 66, 12: 24, 5: 11, 7: 8, 14: 27, 0: 7, 2: 4}\n",
            "Prunning filters.. \n",
            "Filters prunned 51.515151515151516%\n",
            "Accuracy:  0.0\n",
            "Fine tuning to recover from prunning iteration.\n",
            "Epoch:  0\n",
            "Accuracy:  0.0\n",
            "Epoch:  1\n",
            "Accuracy:  1.0\n",
            "Epoch:  2\n",
            "Accuracy:  1.0\n",
            "Epoch:  3\n",
            "Accuracy:  1.0\n",
            "Epoch:  4\n",
            "Accuracy:  0.0\n",
            "Epoch:  5\n",
            "Accuracy:  0.0\n",
            "Epoch:  6\n",
            "Accuracy:  0.0\n",
            "Epoch:  7\n",
            "Accuracy:  1.0\n",
            "Epoch:  8\n",
            "Accuracy:  1.0\n",
            "Epoch:  9\n",
            "Accuracy:  1.0\n",
            "Finished fine tuning.\n",
            "Ranking filters.. \n",
            "Layers that will be prunned {24: 63, 21: 76, 26: 87, 12: 30, 17: 64, 28: 44, 19: 71, 14: 33, 10: 20, 7: 7, 5: 11, 2: 3, 0: 3}\n",
            "Prunning filters.. \n",
            "Filters prunned 39.39393939393939%\n",
            "Accuracy:  1.0\n",
            "Fine tuning to recover from prunning iteration.\n",
            "Epoch:  0\n",
            "Accuracy:  1.0\n",
            "Epoch:  1\n",
            "Accuracy:  1.0\n",
            "Epoch:  2\n",
            "Accuracy:  1.0\n",
            "Epoch:  3\n",
            "Accuracy:  1.0\n",
            "Epoch:  4\n",
            "Accuracy:  1.0\n",
            "Epoch:  5\n",
            "Accuracy:  1.0\n",
            "Epoch:  6\n",
            "Accuracy:  1.0\n",
            "Epoch:  7\n",
            "Accuracy:  1.0\n",
            "Epoch:  8\n",
            "Accuracy:  1.0\n",
            "Epoch:  9\n",
            "Accuracy:  1.0\n",
            "Finished fine tuning.\n",
            "Finished. Going to fine tune the model a bit more\n",
            "Epoch:  0\n",
            "Accuracy:  0.0\n",
            "Epoch:  1\n",
            "Accuracy:  0.0\n",
            "Epoch:  2\n",
            "Accuracy:  1.0\n",
            "Epoch:  3\n",
            "Accuracy:  1.0\n",
            "Epoch:  4\n",
            "Accuracy:  1.0\n",
            "Epoch:  5\n",
            "Accuracy:  1.0\n",
            "Epoch:  6\n",
            "Accuracy:  1.0\n",
            "Epoch:  7\n",
            "Accuracy:  1.0\n",
            "Epoch:  8\n",
            "Accuracy:  1.0\n",
            "Epoch:  9\n",
            "Accuracy:  1.0\n",
            "Epoch:  10\n",
            "Accuracy:  1.0\n",
            "Epoch:  11\n",
            "Accuracy:  1.0\n",
            "Epoch:  12\n",
            "Accuracy:  1.0\n",
            "Epoch:  13\n",
            "Accuracy:  1.0\n",
            "Epoch:  14\n",
            "Accuracy:  1.0\n",
            "Finished fine tuning.\n"
          ],
          "name": "stdout"
        }
      ]
    },
    {
      "metadata": {
        "id": "dvEvgc1vDnVK",
        "colab_type": "code",
        "colab": {
          "base_uri": "https://localhost:8080/",
          "height": 72
        },
        "outputId": "24f0dbda-28e6-467b-c84b-f2e4651e9541"
      },
      "cell_type": "code",
      "source": [
        "pre_trained_model=torch.load(\"model_prunned\")"
      ],
      "execution_count": 55,
      "outputs": [
        {
          "output_type": "stream",
          "text": [
            "/usr/local/lib/python3.6/dist-packages/torch/serialization.py:401: UserWarning: Couldn't retrieve source code for container of type ModifiedVGG16Model. It won't be checked for correctness upon loading.\n",
            "  \"type \" + container_type.__name__ + \". It won't be checked \"\n"
          ],
          "name": "stderr"
        }
      ]
    },
    {
      "metadata": {
        "id": "hWf7eTJB6Dc8",
        "colab_type": "code",
        "colab": {
          "base_uri": "https://localhost:8080/",
          "height": 791
        },
        "outputId": "75fed040-22eb-49b5-8012-6bae7ca354d7"
      },
      "cell_type": "code",
      "source": [
        "pre_trained_model.eval()"
      ],
      "execution_count": 57,
      "outputs": [
        {
          "output_type": "execute_result",
          "data": {
            "text/plain": [
              "ModifiedVGG16Model(\n",
              "  (classifier): Sequential(\n",
              "    (0): Dropout(p=0.5)\n",
              "    (1): Linear(in_features=2744, out_features=4096, bias=True)\n",
              "    (2): ReLU(inplace)\n",
              "    (3): Dropout(p=0.5)\n",
              "    (4): Linear(in_features=4096, out_features=4096, bias=True)\n",
              "    (5): ReLU(inplace)\n",
              "    (6): Linear(in_features=4096, out_features=2, bias=True)\n",
              "  )\n",
              "  (features): Sequential(\n",
              "    (0): Conv2d(3, 41, kernel_size=(3, 3), stride=(1, 1), padding=(1, 1))\n",
              "    (1): ReLU(inplace)\n",
              "    (2): Conv2d(41, 49, kernel_size=(3, 3), stride=(1, 1), padding=(1, 1))\n",
              "    (3): ReLU(inplace)\n",
              "    (4): MaxPool2d(kernel_size=2, stride=2, padding=0, dilation=1, ceil_mode=False)\n",
              "    (5): Conv2d(49, 90, kernel_size=(3, 3), stride=(1, 1), padding=(1, 1))\n",
              "    (6): ReLU(inplace)\n",
              "    (7): Conv2d(90, 94, kernel_size=(3, 3), stride=(1, 1), padding=(1, 1))\n",
              "    (8): ReLU(inplace)\n",
              "    (9): MaxPool2d(kernel_size=2, stride=2, padding=0, dilation=1, ceil_mode=False)\n",
              "    (10): Conv2d(94, 167, kernel_size=(3, 3), stride=(1, 1), padding=(1, 1))\n",
              "    (11): ReLU(inplace)\n",
              "    (12): Conv2d(167, 159, kernel_size=(3, 3), stride=(1, 1), padding=(1, 1))\n",
              "    (13): ReLU(inplace)\n",
              "    (14): Conv2d(159, 154, kernel_size=(3, 3), stride=(1, 1), padding=(1, 1))\n",
              "    (15): ReLU(inplace)\n",
              "    (16): MaxPool2d(kernel_size=2, stride=2, padding=0, dilation=1, ceil_mode=False)\n",
              "    (17): Conv2d(154, 231, kernel_size=(3, 3), stride=(1, 1), padding=(1, 1))\n",
              "    (18): ReLU(inplace)\n",
              "    (19): Conv2d(231, 204, kernel_size=(3, 3), stride=(1, 1), padding=(1, 1))\n",
              "    (20): ReLU(inplace)\n",
              "    (21): Conv2d(204, 165, kernel_size=(3, 3), stride=(1, 1), padding=(1, 1))\n",
              "    (22): ReLU(inplace)\n",
              "    (23): MaxPool2d(kernel_size=2, stride=2, padding=0, dilation=1, ceil_mode=False)\n",
              "    (24): Conv2d(165, 149, kernel_size=(3, 3), stride=(1, 1), padding=(1, 1))\n",
              "    (25): ReLU(inplace)\n",
              "    (26): Conv2d(149, 105, kernel_size=(3, 3), stride=(1, 1), padding=(1, 1))\n",
              "    (27): ReLU(inplace)\n",
              "    (28): Conv2d(105, 56, kernel_size=(3, 3), stride=(1, 1), padding=(1, 1))\n",
              "    (29): ReLU(inplace)\n",
              "    (30): MaxPool2d(kernel_size=2, stride=2, padding=0, dilation=1, ceil_mode=False)\n",
              "  )\n",
              ")"
            ]
          },
          "metadata": {
            "tags": []
          },
          "execution_count": 57
        }
      ]
    },
    {
      "metadata": {
        "id": "5AnwUhiHQuWP",
        "colab_type": "code",
        "colab": {
          "base_uri": "https://localhost:8080/",
          "height": 34
        },
        "outputId": "1d6f5fac-9592-4ade-86e2-b6ed87f3f911"
      },
      "cell_type": "code",
      "source": [
        "len(list(pre_trained_model.parameters()))"
      ],
      "execution_count": 63,
      "outputs": [
        {
          "output_type": "execute_result",
          "data": {
            "text/plain": [
              "32"
            ]
          },
          "metadata": {
            "tags": []
          },
          "execution_count": 63
        }
      ]
    },
    {
      "metadata": {
        "id": "uqossWd4VYgx",
        "colab_type": "code",
        "colab": {
          "base_uri": "https://localhost:8080/",
          "height": 580
        },
        "outputId": "4bad265a-3fdf-406a-c9ba-31557f32be9b"
      },
      "cell_type": "code",
      "source": [
        "for i in range(32):\n",
        "  print(i,\"  \",len(list(pre_trained_model.parameters())[i]))"
      ],
      "execution_count": 78,
      "outputs": [
        {
          "output_type": "stream",
          "text": [
            "0    4096\n",
            "1    4096\n",
            "2    4096\n",
            "3    4096\n",
            "4    2\n",
            "5    2\n",
            "6    41\n",
            "7    41\n",
            "8    49\n",
            "9    49\n",
            "10    90\n",
            "11    90\n",
            "12    94\n",
            "13    94\n",
            "14    167\n",
            "15    167\n",
            "16    159\n",
            "17    159\n",
            "18    154\n",
            "19    154\n",
            "20    231\n",
            "21    231\n",
            "22    204\n",
            "23    204\n",
            "24    165\n",
            "25    165\n",
            "26    149\n",
            "27    149\n",
            "28    105\n",
            "29    105\n",
            "30    56\n",
            "31    56\n"
          ],
          "name": "stdout"
        }
      ]
    },
    {
      "metadata": {
        "id": "vSdYGcRyUYRt",
        "colab_type": "code",
        "colab": {}
      },
      "cell_type": "code",
      "source": [
        "# list(pre_trained_model.parameters())[30]"
      ],
      "execution_count": 0,
      "outputs": []
    },
    {
      "metadata": {
        "id": "32Cw8mPschXz",
        "colab_type": "text"
      },
      "cell_type": "markdown",
      "source": [
        "## Note: I have flattened the N Dimensional Array to plot the weights at layers 1 to 5. "
      ]
    },
    {
      "metadata": {
        "id": "ewJdKl-rcNqs",
        "colab_type": "text"
      },
      "cell_type": "markdown",
      "source": [
        "# :**Weight Histograms are plotted below**"
      ]
    },
    {
      "metadata": {
        "id": "GGASF8XSRQ6k",
        "colab_type": "code",
        "colab": {
          "base_uri": "https://localhost:8080/",
          "height": 1694
        },
        "outputId": "3bdf306a-76b3-48d4-fa56-2d28bb3b3582"
      },
      "cell_type": "code",
      "source": [
        "from matplotlib.pyplot import figure\n",
        "import matplotlib.pyplot as plt\n",
        "%matplotlib inline\n",
        "figure(num=None, figsize=(8, 30))\n",
        "\n",
        "plt.style.use('seaborn-deep')\n",
        "plt.subplot(5, 1, 1)\n",
        "plt.hist(list(list(pre_trained_model.parameters())[0].flatten().data.cpu().numpy()),bins=500)\n",
        "plt.title('Layer 1 Output Histogram')\n",
        "plt.subplot(5, 1, 2)\n",
        "plt.hist(list(list(pre_trained_model.parameters())[8].flatten().data.cpu().numpy()),bins=100)\n",
        "plt.title('Layer 2 Output Histogram')\n",
        "plt.subplot(5, 1, 3)\n",
        "plt.hist(list(list(pre_trained_model.parameters())[8].flatten().data.cpu().numpy()),bins=100)\n",
        "plt.title('Layer 3 Output Histogram')\n",
        "plt.subplot(5, 1, 4)\n",
        "plt.hist(list(list(pre_trained_model.parameters())[8].flatten().data.cpu().numpy()),bins=100)\n",
        "plt.title('Layer 4 Output Histogram')\n",
        "plt.subplot(5, 1, 5)\n",
        "plt.hist(list(list(pre_trained_model.parameters())[8].flatten().data.cpu().numpy()),bins=100)\n",
        "plt.title('Layer 5 Output Histogram')\n",
        "plt.show()"
      ],
      "execution_count": 120,
      "outputs": [
        {
          "output_type": "display_data",
          "data": {
            "image/png": "[encoded data removed]",
            "text/plain": [
              "<Figure size 576x2160 with 5 Axes>"
            ]
          },
          "metadata": {
            "tags": []
          }
        }
      ]
    },
    {
      "metadata": {
        "id": "OB6KtGWHZcI_",
        "colab_type": "code",
        "colab": {}
      },
      "cell_type": "code",
      "source": [
        "# list(list(pre_trained_model.parameters())[8].flatten().data.cpu().numpy())"
      ],
      "execution_count": 0,
      "outputs": []
    },
    {
      "metadata": {
        "id": "Pn__qb8TRtAa",
        "colab_type": "code",
        "colab": {}
      },
      "cell_type": "code",
      "source": [
        "\"\"\"\n",
        "Created on Thu Oct 21 11:09:09 2017\n",
        "@author: Utku Ozbulak - github.com/utkuozbulak\n",
        "\"\"\"\n",
        "import os\n",
        "import copy\n",
        "import numpy as np\n",
        "from PIL import Image\n",
        "import matplotlib.cm as mpl_color_map\n",
        "\n",
        "import torch\n",
        "from torch.autograd import Variable\n",
        "from torchvision import models\n",
        "\n",
        "\n",
        "def convert_to_grayscale(im_as_arr):\n",
        "    \"\"\"\n",
        "        Converts 3d image to grayscale\n",
        "    Args:\n",
        "        im_as_arr (numpy arr): RGB image with shape (D,W,H)\n",
        "    returns:\n",
        "        grayscale_im (numpy_arr): Grayscale image with shape (1,W,D)\n",
        "    \"\"\"\n",
        "    grayscale_im = np.sum(np.abs(im_as_arr), axis=0)\n",
        "    im_max = np.percentile(grayscale_im, 99)\n",
        "    im_min = np.min(grayscale_im)\n",
        "    grayscale_im = (np.clip((grayscale_im - im_min) / (im_max - im_min), 0, 1))\n",
        "    grayscale_im = np.expand_dims(grayscale_im, axis=0)\n",
        "    return grayscale_im\n",
        "\n",
        "\n",
        "def save_gradient_images(gradient, file_name):\n",
        "    \"\"\"\n",
        "        Exports the original gradient image\n",
        "    Args:\n",
        "        gradient (np arr): Numpy array of the gradient with shape (3, 224, 224)\n",
        "        file_name (str): File name to be exported\n",
        "    \"\"\"\n",
        "    if not os.path.exists('../results'):\n",
        "        os.makedirs('../results')\n",
        "    # Normalize\n",
        "    gradient = gradient - gradient.min()\n",
        "    gradient /= gradient.max()\n",
        "    # Save image\n",
        "    path_to_file = os.path.join('../results', file_name + '.jpg')\n",
        "    save_image(gradient, path_to_file)\n",
        "\n",
        "\n",
        "def save_class_activation_images(org_img, activation_map, file_name):\n",
        "    \"\"\"\n",
        "        Saves cam activation map and activation map on the original image\n",
        "    Args:\n",
        "        org_img (PIL img): Original image\n",
        "        activation_map (numpy arr): Activation map (grayscale) 0-255\n",
        "        file_name (str): File name of the exported image\n",
        "    \"\"\"\n",
        "    if not os.path.exists('../results'):\n",
        "        os.makedirs('../results')\n",
        "    # Grayscale activation map\n",
        "    heatmap, heatmap_on_image = apply_colormap_on_image(org_img, activation_map, 'hsv')\n",
        "    # Save colored heatmap\n",
        "    path_to_file = os.path.join('../results', file_name+'_Cam_Heatmap.png')\n",
        "    save_image(heatmap, path_to_file)\n",
        "    # Save heatmap on iamge\n",
        "    path_to_file = os.path.join('../results', file_name+'_Cam_On_Image.png')\n",
        "    save_image(heatmap_on_image, path_to_file)\n",
        "    # SAve grayscale heatmap\n",
        "    path_to_file = os.path.join('../results', file_name+'_Cam_Grayscale.png')\n",
        "    save_image(activation_map, path_to_file)\n",
        "\n",
        "\n",
        "def apply_colormap_on_image(org_im, activation, colormap_name):\n",
        "    \"\"\"\n",
        "        Apply heatmap on image\n",
        "    Args:\n",
        "        org_img (PIL img): Original image\n",
        "        activation_map (numpy arr): Activation map (grayscale) 0-255\n",
        "        colormap_name (str): Name of the colormap\n",
        "    \"\"\"\n",
        "    # Get colormap\n",
        "    color_map = mpl_color_map.get_cmap(colormap_name)\n",
        "    no_trans_heatmap = color_map(activation)\n",
        "    # Change alpha channel in colormap to make sure original image is displayed\n",
        "    heatmap = copy.copy(no_trans_heatmap)\n",
        "    heatmap[:, :, 3] = 0.4\n",
        "    heatmap = Image.fromarray((heatmap*255).astype(np.uint8))\n",
        "    no_trans_heatmap = Image.fromarray((no_trans_heatmap*255).astype(np.uint8))\n",
        "\n",
        "    # Apply heatmap on iamge\n",
        "    heatmap_on_image = Image.new(\"RGBA\", org_im.size)\n",
        "    heatmap_on_image = Image.alpha_composite(heatmap_on_image, org_im.convert('RGBA'))\n",
        "    heatmap_on_image = Image.alpha_composite(heatmap_on_image, heatmap)\n",
        "    return no_trans_heatmap, heatmap_on_image\n",
        "\n",
        "\n",
        "def save_image(im, path):\n",
        "    \"\"\"\n",
        "        Saves a numpy matrix of shape D(1 or 3) x W x H as an image\n",
        "    Args:\n",
        "        im_as_arr (Numpy array): Matrix of shape DxWxH\n",
        "        path (str): Path to the image\n",
        "    \"\"\"\n",
        "    if isinstance(im, np.ndarray):\n",
        "        if len(im.shape) == 2:\n",
        "            im = np.expand_dims(im, axis=0)\n",
        "        if im.shape[0] == 1:\n",
        "            # Converting an image with depth = 1 to depth = 3, repeating the same values\n",
        "            # For some reason PIL complains when I want to save channel image as jpg without\n",
        "            # additional format in the .save()\n",
        "            im = np.repeat(im, 3, axis=0)\n",
        "            # Convert to values to range 1-255 and W,H, D\n",
        "        if im.shape[0] == 3:\n",
        "            im = im.transpose(1, 2, 0) * 255\n",
        "        im = Image.fromarray(im.astype(np.uint8))\n",
        "    im.save(path)\n",
        "\n",
        "\n",
        "def preprocess_image(pil_im, resize_im=True):\n",
        "    \"\"\"\n",
        "        Processes image for CNNs\n",
        "    Args:\n",
        "        PIL_img (PIL_img): Image to process\n",
        "        resize_im (bool): Resize to 224 or not\n",
        "    returns:\n",
        "        im_as_var (torch variable): Variable that contains processed float tensor\n",
        "    \"\"\"\n",
        "    # mean and std list for channels (Imagenet)\n",
        "    mean = [0.485, 0.456, 0.406]\n",
        "    std = [0.229, 0.224, 0.225]\n",
        "    # Resize image\n",
        "    if resize_im:\n",
        "        pil_im.thumbnail((512, 512))\n",
        "    im_as_arr = np.float32(pil_im)\n",
        "    im_as_arr = im_as_arr.transpose(2, 0, 1)  # Convert array to D,W,H\n",
        "    # Normalize the channels\n",
        "    for channel, _ in enumerate(im_as_arr):\n",
        "        im_as_arr[channel] /= 255\n",
        "        im_as_arr[channel] -= mean[channel]\n",
        "        im_as_arr[channel] /= std[channel]\n",
        "    # Convert to float tensor\n",
        "    im_as_ten = torch.from_numpy(im_as_arr).float()\n",
        "    # Add one more channel to the beginning. Tensor shape = 1,3,224,224\n",
        "    im_as_ten.unsqueeze_(0)\n",
        "    # Convert to Pytorch variable\n",
        "    im_as_var = Variable(im_as_ten, requires_grad=True)\n",
        "    return im_as_var\n",
        "\n",
        "\n",
        "def recreate_image(im_as_var):\n",
        "    \"\"\"\n",
        "        Recreates images from a torch variable, sort of reverse preprocessing\n",
        "    Args:\n",
        "        im_as_var (torch variable): Image to recreate\n",
        "    returns:\n",
        "        recreated_im (numpy arr): Recreated image in array\n",
        "    \"\"\"\n",
        "    reverse_mean = [-0.485, -0.456, -0.406]\n",
        "    reverse_std = [1/0.229, 1/0.224, 1/0.225]\n",
        "    recreated_im = copy.copy(im_as_var.data.numpy()[0])\n",
        "    for c in range(3):\n",
        "        recreated_im[c] /= reverse_std[c]\n",
        "        recreated_im[c] -= reverse_mean[c]\n",
        "    recreated_im[recreated_im > 1] = 1\n",
        "    recreated_im[recreated_im < 0] = 0\n",
        "    recreated_im = np.round(recreated_im * 255)\n",
        "\n",
        "    recreated_im = np.uint8(recreated_im).transpose(1, 2, 0)\n",
        "    return recreated_im\n",
        "\n",
        "\n",
        "def get_positive_negative_saliency(gradient):\n",
        "    \"\"\"\n",
        "        Generates positive and negative saliency maps based on the gradient\n",
        "    Args:\n",
        "        gradient (numpy arr): Gradient of the operation to visualize\n",
        "    returns:\n",
        "        pos_saliency ( )\n",
        "    \"\"\"\n",
        "    pos_saliency = (np.maximum(0, gradient) / gradient.max())\n",
        "    neg_saliency = (np.maximum(0, -gradient) / -gradient.min())\n",
        "    return pos_saliency, neg_saliency\n",
        "\n",
        "\n",
        "def get_example_params(example_index):\n",
        "    \"\"\"\n",
        "        Gets used variables for almost all visualizations, like the image, model etc.\n",
        "    Args:\n",
        "        example_index (int): Image id to use from examples\n",
        "    returns:\n",
        "        original_image (numpy arr): Original image read from the file\n",
        "        prep_img (numpy_arr): Processed image\n",
        "        target_class (int): Target class for the image\n",
        "        file_name_to_export (string): File name to export the visualizations\n",
        "        pretrained_model(Pytorch model): Model to use for the operations\n",
        "    \"\"\"\n",
        "    # Pick one of the examples\n",
        "    example_list = (('../input_images/snake.jpg', 56),\n",
        "                    ('../input_images/cat_dog.png', 243),\n",
        "                    ('../input_images/spider.png', 72))\n",
        "    img_path = example_list[example_index][0]\n",
        "    target_class = example_list[example_index][1]\n",
        "    file_name_to_export = img_path[img_path.rfind('/')+1:img_path.rfind('.')]\n",
        "    # Read image\n",
        "    original_image = Image.open(img_path).convert('RGB')\n",
        "    # Process image\n",
        "    prep_img = preprocess_image(original_image)\n",
        "    # Define model\n",
        "    pretrained_model = models.alexnet(pretrained=True)\n",
        "    return (original_image,\n",
        "            prep_img,\n",
        "            target_class,\n",
        "            file_name_to_export,\n",
        "            pretrained_model)"
      ],
      "execution_count": 0,
      "outputs": []
    },
    {
      "metadata": {
        "id": "p-6b0gHgc1xR",
        "colab_type": "text"
      },
      "cell_type": "markdown",
      "source": [
        "# Feature Maps are plotted below"
      ]
    },
    {
      "metadata": {
        "id": "omHujxSrTXq2",
        "colab_type": "code",
        "colab": {
          "base_uri": "https://localhost:8080/",
          "height": 52
        },
        "outputId": "91586412-af34-44f7-f7a5-9734a8c5be44"
      },
      "cell_type": "code",
      "source": [
        "from keras.preprocessing.image import load_img\n",
        "from keras.preprocessing.image import img_to_array\n",
        "from keras.applications.vgg16 import preprocess_input\n",
        "from keras.applications.vgg16 import decode_predictions\n",
        "from keras.applications.vgg16 import VGG16\n",
        "import matplotlib.pyplot as plt\n",
        "import tensorflow as tf\n",
        "import numpy as np\n",
        "%matplotlib inline\n",
        "# load the model\n",
        "model = pre_trained_model\n",
        "# load an image from file\n",
        "image1 = load_img('cat.1.jpg', target_size=(224, 224))\n",
        "# convert the image pixels to a numpy array\n",
        "image2 = img_to_array(image1)\n",
        "# reshape data for the model\n",
        "image3 = image2.reshape((1, image2.shape[0], image2.shape[1], image2.shape[2]))\n",
        "# prepare the image for the VGG model\n",
        "image4 = preprocess_input(image3)\n",
        "import os\n",
        "import numpy as np\n",
        "# import cv2\n",
        "# from cv2 import cv\n",
        "# from opencv.cv import *\n",
        "import torch\n",
        "from torch.optim import Adam\n",
        "from torchvision import models\n",
        "\n",
        "# from misc_functions import preprocess_image, recreate_image, save_image\n",
        "\n",
        "\n",
        "class CNNLayerVisualization():\n",
        "    \"\"\"\n",
        "        Produces an image that minimizes the loss of a convolution\n",
        "        operation for a specific layer and filter\n",
        "    \"\"\"\n",
        "    def __init__(self, model, selected_layer, selected_filter):\n",
        "        self.model = model\n",
        "        self.model.eval()\n",
        "        self.selected_layer = selected_layer\n",
        "        self.selected_filter = selected_filter\n",
        "        self.conv_output = 0\n",
        "        # Create the folder to export images if not exists\n",
        "        if not os.path.exists('../generated'):\n",
        "            os.makedirs('../generated')\n",
        "\n",
        "    def hook_layer(self):\n",
        "        def hook_function(module, grad_in, grad_out):\n",
        "            # Gets the conv output of the selected filter (from selected layer)\n",
        "            self.conv_output = grad_out[0, self.selected_filter]\n",
        "        # Hook the selected layer\n",
        "        self.model[self.selected_layer].register_forward_hook(hook_function)\n",
        "    def loader(path, batch_size=8, num_workers=4, pin_memory=True):\n",
        "        normalize = transforms.Normalize(mean=[0.485, 0.456, 0.406], std=[0.229, 0.224, 0.225])\n",
        "        return data.DataLoader(\n",
        "          datasets.ImageFolder(path,\n",
        "                     transforms.Compose([\n",
        "                       transforms.Resize(256),\n",
        "                       transforms.RandomResizedCrop(224),\n",
        "                       transforms.RandomHorizontalFlip(),\n",
        "                       transforms.ToTensor(),\n",
        "                       normalize,\n",
        "                     ])))\n",
        "      \n",
        "      \n",
        "      \n",
        "      \n",
        "    def visualise_layer_with_hooks(self):\n",
        "        # Hook the selected layer\n",
        "        p='inactive'\n",
        "        self.hook_layer()\n",
        "        output=[]\n",
        "        # Generate a random image\n",
        "        print(type(np.uint8(np.random.uniform(150, 180, (224, 224, 3)))))\n",
        "        image_path=\"cat.11.jpg\"\n",
        "#         im=cv2.imread(image_path)\n",
        "#         im = cv.LoadImage(image_path)\n",
        "#         random_image = np.asarray(im)\n",
        "        # Process image and return variable\n",
        "#         processed_image = loader(\"drive/My Drive/Colab Notebooks/test\")\n",
        "#         print(processed_image)\n",
        "        # Define optimizer for the image\n",
        "        print(type(tf.convert_to_tensor(image4)))\n",
        "        optimizer = Adam([torch.tensor(np.absolute(image4))], lr=0.1, weight_decay=1e-6)\n",
        "#         optimizer = Adam([processed_image], lr=0.1, weight_decay=1e-6)\n",
        "        \n",
        "        for i in range(1, 31):\n",
        "            optimizer.zero_grad()\n",
        "            # Assign create image to a variable to move forward in the model\n",
        "            x = preprocess_image(image1)\n",
        "            for index, layer in enumerate(self.model):\n",
        "                # Forward pass layer by layer\n",
        "                # x is not used after this point because it is only needed to trigger\n",
        "                # the forward hook function\n",
        "                x = layer(x.type(torch.cuda.FloatTensor))\n",
        "#                 x=torch.autograd.Variable(x.type(torch.cuda.FloatTensor))\n",
        "                # Only need to forward until the selected layer is reached\n",
        "                self.conv_output = x[0, self.selected_filter]\n",
        "                output.append(self.conv_output)\n",
        "                \n",
        "                if index == self.selected_layer:\n",
        "                    # (forward hook function triggered)\n",
        "                    p='active'\n",
        "                    break\n",
        "            \n",
        "            # Loss function is the mean of the output of the selected layer/filter\n",
        "            # We try to minimize the mean of the output of that specific filter\n",
        "            loss = -torch.mean(self.conv_output)\n",
        "            # Backward\n",
        "            loss.backward()\n",
        "            # Update image\n",
        "            optimizer.step()\n",
        "            if(p=='active'):\n",
        "              return output\n",
        "        return output\n",
        "      \n",
        "      \n",
        "      \n",
        "      \n",
        "    def visualise_layer_without_hooks(self):\n",
        "        # Process image and return variable\n",
        "        # Generate a random image\n",
        "        im = cv.LoadImage(\"cat.11.jpg\")\n",
        "        random_image = numpy.asarray(im)\n",
        "#         random_image = np.uint8(np.random.uniform(150, 180, (224, 224, 3)))\n",
        "        # Process image and return variable\n",
        "        processed_image = preprocess_image(random_image, False)\n",
        "        # Define optimizer for the image\n",
        "        optimizer = Adam([processed_image], lr=0.1, weight_decay=1e-6)\n",
        "        ouput=[]\n",
        "        for i in range(1, 31):\n",
        "            \n",
        "            optimizer.zero_grad()\n",
        "            # Assign create image to a variable to move forward in the model\n",
        "            x = processed_image\n",
        "            print(\"X is : \",x)\n",
        "            for index, layer in enumerate(self.model):\n",
        "                # Forward pass layer by layer\n",
        "                x = layer(x)\n",
        "                if index == self.selected_layer:\n",
        "                    # Only need to forward until the selected layer is reached\n",
        "                    # Now, x is the output of the selected layer\n",
        "                    break\n",
        "                  \n",
        "            # Here, we get the specific filter from the output of the convolution operation\n",
        "            # x is a tensor of shape 1x512x28x28.(For layer 17)\n",
        "            # So there are 512 unique filter outputs\n",
        "            # Following line selects a filter from 512 filters so self.conv_output will become\n",
        "            # a tensor of shape 28x28\n",
        "            self.conv_output = x[0, self.selected_filter]\n",
        "            # Loss function is the mean of the output of the selected layer/filter\n",
        "            # We try to minimize the mean of the output of that specific filter\n",
        "            loss = -torch.mean(self.conv_output)\n",
        "            print('Iteration:', str(i), 'Loss:', \"{0:.2f}\".format(loss.cpu().data.numpy()))\n",
        "            # Backward\n",
        "            loss.backward()\n",
        "            # Update image\n",
        "            optimizer.step()\n",
        "            \n",
        "if __name__ == '__main__':\n",
        "    cnn_layer = 16\n",
        "    filter_pos = 5\n",
        "    # Fully connected layer is not needed\n",
        "    pretrained_model = pre_trained_model.features\n",
        "    layer_vis = CNNLayerVisualization(pretrained_model, cnn_layer, filter_pos)\n",
        "\n",
        "    # Layer visualization with pytorch hooks\n",
        "    output=layer_vis.visualise_layer_with_hooks()\n",
        "\n",
        "    # Layer visualization without pytorch hooks\n",
        "#     layer_vis.visualise_layer_without_hooks()"
      ],
      "execution_count": 292,
      "outputs": [
        {
          "output_type": "stream",
          "text": [
            "<class 'numpy.ndarray'>\n",
            "<class 'tensorflow.python.framework.ops.Tensor'>\n"
          ],
          "name": "stdout"
        }
      ]
    },
    {
      "metadata": {
        "id": "Ywj0zVuWTj9z",
        "colab_type": "code",
        "colab": {}
      },
      "cell_type": "code",
      "source": [
        "# list(list(pre_trained_model.parameters())[8].flatten().data.cpu().numpy())"
      ],
      "execution_count": 0,
      "outputs": []
    },
    {
      "metadata": {
        "id": "58AksgDnme7U",
        "colab_type": "code",
        "colab": {}
      },
      "cell_type": "code",
      "source": [
        "# output"
      ],
      "execution_count": 0,
      "outputs": []
    },
    {
      "metadata": {
        "id": "9J4v8UoEumO6",
        "colab_type": "code",
        "colab": {
          "base_uri": "https://localhost:8080/",
          "height": 70
        },
        "outputId": "ccd12a89-f25b-454e-d89c-5c59a7438a45"
      },
      "cell_type": "code",
      "source": [
        "!pip install cv\n"
      ],
      "execution_count": 175,
      "outputs": [
        {
          "output_type": "stream",
          "text": [
            "Collecting cv\n",
            "\u001b[31m  Could not find a version that satisfies the requirement cv (from versions: )\u001b[0m\n",
            "\u001b[31mNo matching distribution found for cv\u001b[0m\n"
          ],
          "name": "stdout"
        }
      ]
    },
    {
      "metadata": {
        "id": "57x7VABowZ-I",
        "colab_type": "code",
        "colab": {
          "base_uri": "https://localhost:8080/",
          "height": 70
        },
        "outputId": "ed089e47-1a1e-4511-9395-4e2e70f2a041"
      },
      "cell_type": "code",
      "source": [
        "!pip install cv\n"
      ],
      "execution_count": 171,
      "outputs": [
        {
          "output_type": "stream",
          "text": [
            "Collecting cv\n",
            "\u001b[31m  Could not find a version that satisfies the requirement cv (from versions: )\u001b[0m\n",
            "\u001b[31mNo matching distribution found for cv\u001b[0m\n"
          ],
          "name": "stdout"
        }
      ]
    },
    {
      "metadata": {
        "id": "-ohF_64xxSoZ",
        "colab_type": "code",
        "colab": {
          "base_uri": "https://localhost:8080/",
          "height": 34
        },
        "outputId": "8f52b99d-dee8-4f66-cb28-bef14a3d6878"
      },
      "cell_type": "code",
      "source": [
        "!pwd"
      ],
      "execution_count": 185,
      "outputs": [
        {
          "output_type": "stream",
          "text": [
            "/content\n"
          ],
          "name": "stdout"
        }
      ]
    },
    {
      "metadata": {
        "id": "4DnU_OJ60eS-",
        "colab_type": "code",
        "colab": {
          "base_uri": "https://localhost:8080/",
          "height": 34
        },
        "outputId": "deb9c242-6b83-4a91-ae07-422c657a931f"
      },
      "cell_type": "code",
      "source": [
        "len(output[].flatten())"
      ],
      "execution_count": 251,
      "outputs": [
        {
          "output_type": "execute_result",
          "data": {
            "text/plain": [
              "120736"
            ]
          },
          "metadata": {
            "tags": []
          },
          "execution_count": 251
        }
      ]
    },
    {
      "metadata": {
        "id": "6xcYXnwKB7Tl",
        "colab_type": "code",
        "colab": {
          "base_uri": "https://localhost:8080/",
          "height": 1694
        },
        "outputId": "bfcd9e6d-c425-4629-edfb-58adc01978ee"
      },
      "cell_type": "code",
      "source": [
        "from matplotlib.pyplot import figure\n",
        "import matplotlib.pyplot as plt\n",
        "figure(num=None, figsize=(8, 30))\n",
        "plt.style.use('seaborn-deep')\n",
        "plt.subplot(5, 1, 1)\n",
        "plt.hist(list(list(output[0].flatten().data.cpu().numpy())),bins=200)\n",
        "plt.title('Layer 1 Output Histogram')\n",
        "plt.subplot(5, 1, 2)\n",
        "plt.hist(list(list(output[2].flatten().data.cpu().numpy())),bins=100)\n",
        "plt.title('Layer 2 Output Histogram')\n",
        "plt.subplot(5, 1, 3)\n",
        "plt.hist(list(list(output[4].flatten().data.cpu().numpy())),bins=100)\n",
        "plt.title('Layer 3 Output Histogram')\n",
        "plt.subplot(5, 1, 4)\n",
        "plt.hist(list(list(output[6].flatten().data.cpu().numpy())),bins=100)\n",
        "plt.title('Layer 4 Output Histogram')\n",
        "plt.subplot(5, 1, 5)\n",
        "plt.hist(list(list(output[8].flatten().data.cpu().numpy())),bins=100)\n",
        "plt.title('Layer 5 Output Histogram')\n",
        "plt.show()"
      ],
      "execution_count": 303,
      "outputs": [
        {
          "output_type": "display_data",
          "data": {
            "image/png": "[encoded data removed]",
            "text/plain": [
              "<Figure size 576x2160 with 5 Axes>"
            ]
          },
          "metadata": {
            "tags": []
          }
        }
      ]
    },
    {
      "metadata": {
        "id": "1DuuaIcHJ2Co",
        "colab_type": "code",
        "colab": {}
      },
      "cell_type": "code",
      "source": [
        ""
      ],
      "execution_count": 0,
      "outputs": []
    }
  ]
}